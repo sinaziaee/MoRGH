{
 "cells": [
  {
   "cell_type": "markdown",
   "metadata": {},
   "source": [
    "# Loading required modules"
   ]
  },
  {
   "cell_type": "code",
   "execution_count": 1,
   "metadata": {
    "id": "W2ShKFyR6q6p"
   },
   "outputs": [],
   "source": [
    "import numpy as np\n",
    "import pandas as pd\n",
    "import matplotlib.pyplot as plt\n",
    "import os\n",
    "import torch.nn.functional as F\n",
    "from torch.nn import Linear\n",
    "from torch.nn.functional import dropout\n",
    "from sklearn.metrics import auc\n",
    "\n",
    "\n",
    "import torch\n",
    "os.environ['TORCH'] = torch.__version__\n",
    "# print(torch.__version__)\n",
    "device = torch.device('cuda' if torch.cuda.is_available() else 'cpu')\n",
    "\n",
    "from torch_geometric.nn import SAGEConv, to_hetero\n",
    "import torch_geometric.transforms as T\n",
    "from torch_geometric.data import HeteroData"
   ]
  },
  {
   "cell_type": "markdown",
   "metadata": {},
   "source": [
    "# Loading and preparing datastes, Creating input graphs"
   ]
  },
  {
   "cell_type": "markdown",
   "metadata": {},
   "source": [
    "## Loading similar movies datasets"
   ]
  },
  {
   "cell_type": "code",
   "execution_count": 2,
   "metadata": {},
   "outputs": [],
   "source": [
    "bert_movie = pd.read_csv('movie_graph/bert_100k.csv')\n",
    "genres_movie = pd.read_csv('movie_graph/genres2_100k.csv')\n",
    "jakard_movie = pd.read_csv('movie_graph/genres_100k.csv')\n",
    "lda_movie = pd.read_csv('movie_graph/lda_100k.csv')"
   ]
  },
  {
   "cell_type": "markdown",
   "metadata": {},
   "source": [
    "## Selecting a threshold for similar movies graph"
   ]
  },
  {
   "cell_type": "code",
   "execution_count": 7,
   "metadata": {},
   "outputs": [],
   "source": [
    "jakard_df = jakard_movie[jakard_movie['genres_sim'] >= 0.95]\n",
    "m1_jakard_list = []\n",
    "m2_jakard_list = []\n",
    "movie_jakard_list = []\n",
    "score_jakard_list = []\n",
    "for row in jakard_df.values:\n",
    "    m1 = int(row[0])\n",
    "    m2 = int(row[1])\n",
    "    score = float(row[2])\n",
    "    m1_jakard_list.append(m1)\n",
    "    m2_jakard_list.append(m2)\n",
    "    movie_jakard_list.append([m1, m2])\n",
    "    score_jakard_list.append(score)\n",
    "\n",
    "bert_df = bert_movie[bert_movie['bert_sim'] >= 0.95]\n",
    "\n",
    "m1_bert_list = []\n",
    "m2_bert_list = []\n",
    "movie_bert_list = []\n",
    "score_bert_list = []\n",
    "for row in bert_df.values:\n",
    "    m1 = int(row[0])\n",
    "    m2 = int(row[1])\n",
    "    score = float(row[2])\n",
    "    m1_bert_list.append(m1)\n",
    "    m2_bert_list.append(m2)\n",
    "    movie_bert_list.append([m1, m2])\n",
    "    score_bert_list.append(score * 10)\n",
    "\n",
    "lda_df = lda_movie[lda_movie['lda_sim'] >= 0.8]\n",
    "\n",
    "m1_lda_list = []\n",
    "m2_lda_list = []\n",
    "score_lda_list = []\n",
    "movie_lda_list = []\n",
    "for row in lda_df.values:\n",
    "    m1 = int(row[0])\n",
    "    m2 = int(row[1])\n",
    "    score = float(row[2])\n",
    "    m1_lda_list.append(m1)\n",
    "    m2_lda_list.append(m2)\n",
    "    movie_lda_list.append([m1, m2])\n",
    "    score_lda_list.append(score)\n",
    "\n",
    "genre_df = genres_movie[genres_movie['genres_sim'] >= 3.5]\n",
    "m1_genres_list = []\n",
    "m2_genres_list = []\n",
    "movie_genre_list = []\n",
    "score_genre_list = []\n",
    "for row in genre_df.values:\n",
    "    m1 = int(row[0])\n",
    "    m2 = int(row[1])\n",
    "    score = float(row[2])\n",
    "    m1_lda_list.append(m1)\n",
    "    m2_lda_list.append(m2)\n",
    "    movie_genre_list.append([m1, m2])\n",
    "    score_genre_list.append(score)"
   ]
  },
  {
   "cell_type": "markdown",
   "metadata": {},
   "source": [
    "## Loading movies and ratings datasets"
   ]
  },
  {
   "cell_type": "code",
   "execution_count": 4,
   "metadata": {},
   "outputs": [],
   "source": [
    "movies_df = pd.read_csv('ml-latest-small/movies.csv')\n",
    "rate_df = pd.read_csv('ml-latest-small/ratings.csv')"
   ]
  },
  {
   "cell_type": "markdown",
   "metadata": {},
   "source": [
    "## Utility functions to create bipartite graph of movies and ratings"
   ]
  },
  {
   "cell_type": "code",
   "execution_count": 5,
   "metadata": {
    "id": "kln5tZcIAB_y"
   },
   "outputs": [
    {
     "name": "stdout",
     "output_type": "stream",
     "text": [
      "(9708, 19)\n"
     ]
    }
   ],
   "source": [
    "movies_df = pd.read_csv('ml-latest-small/movies.csv')\n",
    "rate_df = pd.read_csv('ml-latest-small/ratings.csv')\n",
    "\n",
    "# finding all the titles of movies genres\n",
    "genres_title_list = []\n",
    "for row in movies_df['genres'].values:\n",
    "    genres = str(row).split('|')\n",
    "    for genre in genres:\n",
    "        if genre not in genres_title_list:\n",
    "            genres_title_list.append(genre)\n",
    "# fill genres columns\n",
    "def find_genres_columns(current_genres, genres_title_list):\n",
    "    temp_list = []\n",
    "    for genre in genres_title_list:\n",
    "        if genre in current_genres:\n",
    "            temp_list.append(1)\n",
    "        else:\n",
    "            temp_list.append(0)\n",
    "    temp_list = np.array(temp_list)\n",
    "    return temp_list\n",
    "\n",
    "def create_movie_features(movies_df):\n",
    "        # find all genres and their names\n",
    "    genres_title_list = []\n",
    "    for row in movies_df.values:\n",
    "        genres = row[2].split(\"|\")\n",
    "        for genre in genres:\n",
    "            if genre not in genres_title_list:\n",
    "                genres_title_list.append(genre)\n",
    "\n",
    "    # splitting the genres of movies from their string \n",
    "    temp = movies_df.copy(deep=True)\n",
    "    year_list = []\n",
    "    name_list = []\n",
    "    genres_list = []\n",
    "    for row in temp.values:\n",
    "        id = row[0]\n",
    "        name = str(row[1]).strip()\n",
    "        name_inx = str(name).find('(')\n",
    "        year = name[-5:-1]\n",
    "        try:\n",
    "            year = int(year)\n",
    "        except Exception as e:\n",
    "            year = -1\n",
    "        genres = row[2].split('|')\n",
    "        genres = find_genres_columns(genres, genres_title_list)\n",
    "        genres_list.append(genres)\n",
    "        name = name[:name_inx-1].replace('(', '').replace(')', '')\n",
    "        year_list.append(year)\n",
    "        name_list.append(name)\n",
    "    genres_list = np.array(genres_list)\n",
    "    year_list = np.array(year_list)\n",
    "    name_list = np.array(name_list)\n",
    "    temp['title'] = name_list\n",
    "    temp['year'] = year_list\n",
    "    temp['genres'] = list(genres_list)\n",
    "    for i, genre in enumerate(genres_title_list):\n",
    "        temp[genre] = genres_list[:, i]\n",
    "    if '(no genres listed)' in list(temp.columns):\n",
    "        temp = temp[temp['(no genres listed)'] == 0]\n",
    "        del temp['(no genres listed)']\n",
    "    temp.head()\n",
    "    movies_df = temp\n",
    "    del movies_df['genres']\n",
    "\n",
    "    # creating dictionaries for movies\n",
    "    movie_dict = dict()\n",
    "    movie_name_dict = dict()\n",
    "    count = 0\n",
    "    movies_features = []\n",
    "    for row in movies_df.values:\n",
    "        movie_dict[row[0]] = count\n",
    "        movie_name_dict[row[1]] = row[1]\n",
    "        count+=1\n",
    "        movies_features.append(np.array(row[3:]))\n",
    "    # movies_features =np.array(movies_features, dtype=np.int64)\n",
    "    # movies_features =np.array(movies_features)\n",
    "    movies_features =np.array(movies_features, dtype=np.float32)\n",
    "    print(movies_features.shape)\n",
    "    movies_features = torch.from_numpy(movies_features)\n",
    "\n",
    "    return movies_features, movie_dict\n",
    "\n",
    "# movies_features, movie_dict = find_genres_columns(movies_df, genres_title_list)\n",
    "movies_features, movie_dict = create_movie_features(movies_df)"
   ]
  },
  {
   "cell_type": "markdown",
   "metadata": {},
   "source": [
    "## Creating movie graphs"
   ]
  },
  {
   "cell_type": "code",
   "execution_count": 8,
   "metadata": {},
   "outputs": [],
   "source": [
    "movie_bert_list = np.array(movie_bert_list).T\n",
    "score_bert_list = np.array(score_bert_list)\n",
    "movie_bert_list = torch.from_numpy(movie_bert_list)\n",
    "score_bert_list = torch.from_numpy(score_bert_list)\n",
    "\n",
    "movie_lda_list = np.array(movie_lda_list).T\n",
    "score_lda_list = np.array(score_lda_list)\n",
    "movie_lda_list = torch.from_numpy(movie_lda_list)\n",
    "score_lda_list = torch.from_numpy(score_lda_list)\n",
    "\n",
    "movie_genre_list = np.array(movie_genre_list).T\n",
    "score_genre_list = np.array(score_genre_list)\n",
    "movie_genre_list = torch.from_numpy(movie_genre_list)\n",
    "score_genre_list = torch.from_numpy(score_genre_list)"
   ]
  },
  {
   "cell_type": "markdown",
   "metadata": {},
   "source": [
    "## Creating the Heterogeneous graph of users and movies"
   ]
  },
  {
   "cell_type": "code",
   "execution_count": 9,
   "metadata": {
    "id": "ABI0al2uzudt"
   },
   "outputs": [],
   "source": [
    "user_ids = rate_df['userId'].unique()\n",
    "\n",
    "user_dict = {}\n",
    "count = 0\n",
    "for id in user_ids:\n",
    "    if id not in list(user_dict.keys()):\n",
    "        user_dict[id] = count\n",
    "        count += 1\n",
    "rate_list = []\n",
    "edge_list = []\n",
    "\n",
    "for row in rate_df.values:\n",
    "    user = int(row[0])\n",
    "    user = user_dict[user]\n",
    "    movie = int(row[1])\n",
    "    if movie not in list(movie_dict.keys()):\n",
    "        continue\n",
    "    movie = movie_dict[movie]\n",
    "    rate = int(row[2]*2)\n",
    "    rate_list.append(rate)\n",
    "    edge_list.append([user, movie])\n",
    "\n",
    "edge_list = np.array(edge_list)\n",
    "rate_list = np.array(rate_list)\n",
    "\n",
    "edge_list = torch.from_numpy(edge_list).T\n",
    "rate_list = torch.from_numpy(rate_list)"
   ]
  },
  {
   "cell_type": "code",
   "execution_count": 10,
   "metadata": {},
   "outputs": [],
   "source": [
    "data = HeteroData()\n",
    "data['user'].num_nodes = len(user_ids)\n",
    "data['movie'].x = movies_features\n",
    "data['user', 'rates', 'movie'].edge_index = edge_list\n",
    "data['user', 'rates', 'movie'].edge_label = rate_list\n",
    "data['movie', 'edge', 'movie'].edge_index = movie_bert_list\n",
    "data['movie', 'edge', 'movie'].edge_label = score_bert_list"
   ]
  },
  {
   "cell_type": "markdown",
   "metadata": {},
   "source": [
    "# Trating and Testing the models"
   ]
  },
  {
   "cell_type": "markdown",
   "metadata": {},
   "source": [
    "## GNN and GAE model Architecture Costruction"
   ]
  },
  {
   "cell_type": "code",
   "execution_count": 11,
   "metadata": {
    "id": "Kqr4lIH768z3"
   },
   "outputs": [],
   "source": [
    "from torch_geometric.nn import GCNConv\n",
    "def weighted_mse_loss(pred, target, weight=None):\n",
    "    weight = 1. if weight is None else weight[target].to(pred.dtype)\n",
    "    return (weight * (pred - target.to(pred.dtype)).pow(2)).mean()\n",
    "\n",
    "\n",
    "class GNNEncoder(torch.nn.Module):\n",
    "    def __init__(self, hidden_channels, out_channels):\n",
    "        super().__init__()\n",
    "        self.conv1 = SAGEConv((-1, -1), hidden_channels)\n",
    "        self.conv3 = SAGEConv((-1, -1), out_channels,)\n",
    "\n",
    "    def forward(self, x, edge_index):\n",
    "        x = self.conv1(x, edge_index).relu()\n",
    "        # x = dropout(x, p=0.4, training = self.training)\n",
    "        x = self.conv3(x, edge_index)\n",
    "        return x\n",
    "\n",
    "\n",
    "class EdgeDecoder(torch.nn.Module):\n",
    "    def __init__(self, hidden_channels):\n",
    "        super().__init__()\n",
    "        self.lin1 = Linear(2 * hidden_channels, 2 * hidden_channels)\n",
    "        self.lin2 = Linear(2 * hidden_channels, 1)\n",
    "\n",
    "    def forward(self, z_dict, edge_label_index):\n",
    "        row, col = edge_label_index\n",
    "        z = torch.cat([z_dict['user'][row], z_dict['movie'][col]], dim=-1)\n",
    "\n",
    "        z = self.lin1(z).relu()\n",
    "        z = dropout(z, p=0.5, training = self.training)\n",
    "        z = self.lin2(z)\n",
    "        return z.view(-1)\n",
    "\n",
    "\n",
    "class Model(torch.nn.Module):\n",
    "    def __init__(self, hidden_channels, data):\n",
    "        super().__init__()\n",
    "        self.encoder = GNNEncoder(hidden_channels, hidden_channels)\n",
    "        self.encoder = to_hetero(self.encoder, data.metadata(), aggr='sum')\n",
    "        self.decoder = EdgeDecoder(hidden_channels)\n",
    "\n",
    "    def forward(self, x_dict, edge_index_dict, edge_label_index):\n",
    "        z_dict = self.encoder(x_dict, edge_index_dict)\n",
    "        return self.decoder(z_dict, edge_label_index)"
   ]
  },
  {
   "cell_type": "markdown",
   "metadata": {},
   "source": [
    "## Utility functions for training the model"
   ]
  },
  {
   "cell_type": "code",
   "execution_count": 12,
   "metadata": {
    "id": "gWf7Buw-g2DM"
   },
   "outputs": [],
   "source": [
    "def train_test_model(train_data=None, val_data=None, test_data=None, data=None, lr = 0.01, epochs_num = 101, print_logs = True):\n",
    "    model = Model(hidden_channels=64, data=data).to(device)\n",
    "\n",
    "    with torch.no_grad():\n",
    "        model.encoder(train_data.x_dict, train_data.edge_index_dict)\n",
    "\n",
    "    weight = torch.bincount(train_data['user', 'movie'].edge_label)\n",
    "    weight = weight.max() / weight\n",
    "\n",
    "    optimizer = torch.optim.Adam(model.parameters(), lr=lr)\n",
    "\n",
    "    def train():\n",
    "        model.train()\n",
    "        optimizer.zero_grad()\n",
    "        pred = model(train_data.x_dict, train_data.edge_index_dict,\n",
    "                        train_data['user', 'movie'].edge_label_index)\n",
    "        target = train_data['user', 'movie'].edge_label\n",
    "        loss = weighted_mse_loss(pred, target, weight)\n",
    "        loss.backward()\n",
    "        optimizer.step()\n",
    "        return float(loss)\n",
    "\n",
    "\n",
    "    @torch.no_grad()\n",
    "    def test(data):\n",
    "        model.eval()\n",
    "        pred = model(data.x_dict, data.edge_index_dict,\n",
    "                    data['user', 'movie'].edge_label_index)\n",
    "        pred = pred.clamp(min=0, max=10)\n",
    "        target = data['user', 'movie'].edge_label.float()\n",
    "        rmse = F.mse_loss(pred / 2, target / 2).sqrt()\n",
    "        return float(rmse)\n",
    "\n",
    "    loss_list = []\n",
    "    for epoch in range(0, epochs_num):\n",
    "        loss = train()\n",
    "        train_rmse = test(train_data) \n",
    "        val_rmse = test(val_data) \n",
    "        test_rmse = test(test_data)\n",
    "        loss_list.append([train_rmse, val_rmse, test_rmse])\n",
    "        if epoch % 10 == 0 and print_logs == True:\n",
    "            print(f'Epoch: {epoch:03d}, Loss: {loss:.4f}, Train: {train_rmse:.4f}, Val: {val_rmse:.4f}, Test: {test_rmse:.4f}')\n",
    "    loss_list = np.array(loss_list)\n",
    "    return loss_list, model\n",
    "\n",
    "def plot_losses(loss_list, min_tresh, max_tresh):\n",
    "    plt.figure(figsize=(12, 10))\n",
    "    plt.plot(loss_list[:, 0], label='train')\n",
    "    plt.plot(loss_list[:, 1], label='val')\n",
    "    plt.plot(loss_list[:, 2], label='test')\n",
    "    plt.legend()\n",
    "    plt.ylim(min_tresh, max_tresh)\n",
    "    plt.xlabel('epoch')\n",
    "    plt.ylabel('loss')\n",
    "    plt.show()"
   ]
  },
  {
   "cell_type": "markdown",
   "metadata": {},
   "source": [
    "## Preparing the final Graph Data and Splitting the datasets"
   ]
  },
  {
   "cell_type": "code",
   "execution_count": 13,
   "metadata": {},
   "outputs": [],
   "source": [
    "data['user'].x = torch.eye(data['user'].num_nodes, device=device)\n",
    "del data['user'].num_nodes\n",
    "data = T.ToUndirected()(data)\n",
    "del data['movie', 'rev_rates', 'user'].edge_label  # Remove \"reverse\" label.\n",
    "data = data.to(device)\n",
    "# Perform a link-level split into training, validation, and test edges:\n",
    "train_data, val_data, test_data = T.RandomLinkSplit(\n",
    "    num_val=0.1,\n",
    "    num_test=0.1,\n",
    "    neg_sampling_ratio=0.0,\n",
    "    edge_types=[('user', 'rates', 'movie')],\n",
    "    rev_edge_types=[('movie', 'rev_rates', 'user')])(data)"
   ]
  },
  {
   "cell_type": "markdown",
   "metadata": {},
   "source": [
    "## Trainging Phase"
   ]
  },
  {
   "cell_type": "code",
   "execution_count": 14,
   "metadata": {},
   "outputs": [
    {
     "name": "stdout",
     "output_type": "stream",
     "text": [
      "Epoch: 000, Loss: 101.3708, Train: 3.0484, Val: 3.0601, Test: 3.0368\n",
      "Epoch: 010, Loss: 32.4639, Train: 1.7171, Val: 1.7282, Test: 1.7118\n",
      "Epoch: 020, Loss: 22.3527, Train: 0.9572, Val: 0.9614, Test: 0.9625\n",
      "Epoch: 030, Loss: 20.9203, Train: 0.7191, Val: 0.7159, Test: 0.7317\n",
      "Epoch: 040, Loss: 17.8259, Train: 0.7853, Val: 0.7854, Test: 0.7912\n",
      "Epoch: 050, Loss: 16.6244, Train: 0.8355, Val: 0.8387, Test: 0.8348\n",
      "Epoch: 060, Loss: 16.0728, Train: 0.8050, Val: 0.8108, Test: 0.8062\n",
      "Epoch: 070, Loss: 15.7799, Train: 0.7702, Val: 0.7775, Test: 0.7763\n",
      "Epoch: 080, Loss: 15.4442, Train: 0.7712, Val: 0.7812, Test: 0.7790\n",
      "Epoch: 090, Loss: 15.0419, Train: 0.7682, Val: 0.7821, Test: 0.7783\n",
      "Epoch: 100, Loss: 14.4034, Train: 0.7483, Val: 0.7686, Test: 0.7650\n"
     ]
    }
   ],
   "source": [
    "loss_list, model = train_test_model(train_data, val_data, test_data, data=data, lr=0.005, epochs_num=101, print_logs=True)"
   ]
  },
  {
   "cell_type": "code",
   "execution_count": 15,
   "metadata": {},
   "outputs": [],
   "source": [
    "preds = model(test_data.x_dict, test_data.edge_index_dict,\n",
    "                    test_data['user', 'movie'].edge_label_index)\n",
    "preds = preds.detach().numpy()"
   ]
  },
  {
   "cell_type": "markdown",
   "metadata": {},
   "source": [
    "## Plotting Learing Curve"
   ]
  },
  {
   "cell_type": "code",
   "execution_count": 16,
   "metadata": {},
   "outputs": [
    {
     "data": {
      "image/png": "[encoded data removed]",
      "text/plain": [
       "<Figure size 864x720 with 1 Axes>"
      ]
     },
     "metadata": {
      "needs_background": "light"
     },
     "output_type": "display_data"
    }
   ],
   "source": [
    "plot_losses(loss_list[:100], min_tresh=0.7, max_tresh=1.8)"
   ]
  },
  {
   "cell_type": "code",
   "execution_count": null,
   "metadata": {},
   "outputs": [],
   "source": []
  }
 ],
 "metadata": {
  "colab": {
   "name": "main.ipynb",
   "provenance": []
  },
  "kernelspec": {
   "display_name": "Python 3 (ipykernel)",
   "language": "python",
   "name": "python3"
  },
  "language_info": {
   "codemirror_mode": {
    "name": "ipython",
    "version": 3
   },
   "file_extension": ".py",
   "mimetype": "text/x-python",
   "name": "python",
   "nbconvert_exporter": "python",
   "pygments_lexer": "ipython3",
   "version": "3.7.6"
  }
 },
 "nbformat": 4,
 "nbformat_minor": 1
}
