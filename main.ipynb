{
  "cells": [
    {
      "cell_type": "code",
      "execution_count": 39,
      "metadata": {
        "id": "W2ShKFyR6q6p"
      },
      "outputs": [
        {
          "name": "stdout",
          "output_type": "stream",
          "text": [
            "1.11.0+cu102\n"
          ]
        }
      ],
      "source": [
        "import numpy as np\n",
        "import pandas as pd\n",
        "import matplotlib.pyplot as plt\n",
        "import os\n",
        "import torch.nn.functional as F\n",
        "from torch.nn import Linear\n",
        "from torch.nn.functional import dropout\n",
        "from sklearn.metrics import auc\n",
        "\n",
        "\n",
        "import torch\n",
        "os.environ['TORCH'] = torch.__version__\n",
        "print(torch.__version__)\n",
        "device = torch.device('cuda' if torch.cuda.is_available() else 'cpu')\n",
        "\n",
        "from torch_geometric.nn import SAGEConv, to_hetero\n",
        "import torch_geometric.transforms as T\n",
        "from torch_geometric.data import HeteroData"
      ]
    },
    {
      "cell_type": "code",
      "execution_count": 40,
      "metadata": {},
      "outputs": [],
      "source": [
        "bert_movie = pd.read_csv('movie_graph/bert_100k.csv')\n",
        "genres_movie = pd.read_csv('movie_graph/genres2_100k.csv')\n",
        "jakard_movie = pd.read_csv('movie_graph/genres_100k.csv')\n",
        "lda_movie = pd.read_csv('movie_graph/lda_100k.csv')"
      ]
    },
    {
      "cell_type": "code",
      "execution_count": 166,
      "metadata": {},
      "outputs": [],
      "source": [
        "jakard_df = jakard_movie[jakard_movie['genres_sim'] >= 0.95]\n",
        "m1_jakard_list = []\n",
        "m2_jakard_list = []\n",
        "movie_jakard_list = []\n",
        "score_jakard_list = []\n",
        "for row in jakard_df.values:\n",
        "    m1 = int(row[0])\n",
        "    m2 = int(row[1])\n",
        "    score = float(row[2])\n",
        "    m1_jakard_list.append(m1)\n",
        "    m2_jakard_list.append(m2)\n",
        "    movie_jakard_list.append([m1, m2])\n",
        "    score_jakard_list.append(score)\n",
        "\n",
        "bert_df = bert_movie[bert_movie['bert_sim'] >= 0.95]\n",
        "\n",
        "m1_bert_list = []\n",
        "m2_bert_list = []\n",
        "movie_bert_list = []\n",
        "score_bert_list = []\n",
        "for row in bert_df.values:\n",
        "    m1 = int(row[0])\n",
        "    m2 = int(row[1])\n",
        "    score = float(row[2])\n",
        "    m1_bert_list.append(m1)\n",
        "    m2_bert_list.append(m2)\n",
        "    movie_bert_list.append([m1, m2])\n",
        "    score_bert_list.append(score * 10)\n",
        "\n",
        "lda_df = lda_movie[lda_movie['lda_sim'] >= 0.8]\n",
        "\n",
        "m1_lda_list = []\n",
        "m2_lda_list = []\n",
        "score_lda_list = []\n",
        "movie_lda_list = []\n",
        "for row in lda_df.values:\n",
        "    m1 = int(row[0])\n",
        "    m2 = int(row[1])\n",
        "    score = float(row[2])\n",
        "    m1_lda_list.append(m1)\n",
        "    m2_lda_list.append(m2)\n",
        "    movie_lda_list.append([m1, m2])\n",
        "    score_lda_list.append(score)\n",
        "\n",
        "genre_df = genres_movie[genres_movie['genres_sim'] >= 3.5]\n",
        "m1_genres_list = []\n",
        "m2_genres_list = []\n",
        "movie_genre_list = []\n",
        "score_genre_list = []\n",
        "for row in genre_df.values:\n",
        "    m1 = int(row[0])\n",
        "    m2 = int(row[1])\n",
        "    score = float(row[2])\n",
        "    m1_lda_list.append(m1)\n",
        "    m2_lda_list.append(m2)\n",
        "    movie_genre_list.append([m1, m2])\n",
        "    score_genre_list.append(score)"
      ]
    },
    {
      "cell_type": "code",
      "execution_count": 183,
      "metadata": {},
      "outputs": [
        {
          "name": "stderr",
          "output_type": "stream",
          "text": [
            "/home/sina/anaconda3/lib/python3.7/site-packages/ipykernel_launcher.py:1: DeprecationWarning: string or file could not be read to its end due to unmatched data; this will raise a ValueError in the future.\n",
            "  \"\"\"Entry point for launching an IPython kernel.\n"
          ]
        }
      ],
      "source": [
        "topex = np.fromfile('ml-1m/movies.dat', sep='::')\n",
        "df_topex = pd.DataFrame(data=topex)"
      ]
    },
    {
      "cell_type": "code",
      "execution_count": 191,
      "metadata": {
        "id": "kln5tZcIAB_y"
      },
      "outputs": [
        {
          "name": "stderr",
          "output_type": "stream",
          "text": [
            "/home/sina/anaconda3/lib/python3.7/site-packages/ipykernel_launcher.py:4: ParserWarning: Falling back to the 'python' engine because the 'c' engine does not support regex separators (separators > 1 char and different from '\\s+' are interpreted as regex); you can avoid this warning by specifying engine='python'.\n",
            "  after removing the cwd from sys.path.\n",
            "/home/sina/anaconda3/lib/python3.7/site-packages/ipykernel_launcher.py:5: ParserWarning: Falling back to the 'python' engine because the 'c' engine does not support regex separators (separators > 1 char and different from '\\s+' are interpreted as regex); you can avoid this warning by specifying engine='python'.\n",
            "  \"\"\"\n"
          ]
        },
        {
          "name": "stdout",
          "output_type": "stream",
          "text": [
            "(3883, 18)\n"
          ]
        }
      ],
      "source": [
        "# movies_df = pd.read_csv('ml-latest-small/movies.csv')\n",
        "# rate_df = pd.read_csv('ml-latest-small/ratings.csv')\n",
        "\n",
        "movies_df = pd.read_csv('ml-1m/movies.dat', sep='::')\n",
        "rate_df = pd.read_csv('ml-1m/ratings.dat', sep='::')\n",
        "\n",
        "\n",
        "# finding all the titles of movies genres\n",
        "genres_title_list = []\n",
        "for row in movies_df['genres'].values:\n",
        "    genres = str(row).split('|')\n",
        "    for genre in genres:\n",
        "        if genre not in genres_title_list:\n",
        "            genres_title_list.append(genre)\n",
        "# fill genres columns\n",
        "def find_genres_columns(current_genres, genres_title_list):\n",
        "    temp_list = []\n",
        "    for genre in genres_title_list:\n",
        "        if genre in current_genres:\n",
        "            temp_list.append(1)\n",
        "        else:\n",
        "            temp_list.append(0)\n",
        "    temp_list = np.array(temp_list)\n",
        "    return temp_list\n",
        "\n",
        "def create_movie_features(movies_df):\n",
        "        # find all genres and their names\n",
        "    genres_title_list = []\n",
        "    for row in movies_df.values:\n",
        "        genres = row[2].split(\"|\")\n",
        "        for genre in genres:\n",
        "            if genre not in genres_title_list:\n",
        "                genres_title_list.append(genre)\n",
        "\n",
        "    # splitting the genres of movies from their string \n",
        "    temp = movies_df.copy(deep=True)\n",
        "    year_list = []\n",
        "    name_list = []\n",
        "    genres_list = []\n",
        "    for row in temp.values:\n",
        "        id = row[0]\n",
        "        name = str(row[1]).strip()\n",
        "        name_inx = str(name).find('(')\n",
        "        year = name[-5:-1]\n",
        "        try:\n",
        "            year = int(year)\n",
        "        except Exception as e:\n",
        "            year = -1\n",
        "        genres = row[2].split('|')\n",
        "        genres = find_genres_columns(genres, genres_title_list)\n",
        "        genres_list.append(genres)\n",
        "        name = name[:name_inx-1].replace('(', '').replace(')', '')\n",
        "        year_list.append(year)\n",
        "        name_list.append(name)\n",
        "    genres_list = np.array(genres_list)\n",
        "    year_list = np.array(year_list)\n",
        "    name_list = np.array(name_list)\n",
        "    temp['title'] = name_list\n",
        "    temp['year'] = year_list\n",
        "    temp['genres'] = list(genres_list)\n",
        "    for i, genre in enumerate(genres_title_list):\n",
        "        temp[genre] = genres_list[:, i]\n",
        "    if '(no genres listed)' in list(temp.columns):\n",
        "        temp = temp[temp['(no genres listed)'] == 0]\n",
        "        del temp['(no genres listed)']\n",
        "    temp.head()\n",
        "    movies_df = temp\n",
        "    del movies_df['genres']\n",
        "\n",
        "    # creating dictionaries for movies\n",
        "    movie_dict = dict()\n",
        "    movie_name_dict = dict()\n",
        "    count = 0\n",
        "    movies_features = []\n",
        "    for row in movies_df.values:\n",
        "        movie_dict[row[0]] = count\n",
        "        movie_name_dict[row[1]] = row[1]\n",
        "        count+=1\n",
        "        movies_features.append(np.array(row[3:]))\n",
        "    # movies_features =np.array(movies_features, dtype=np.int64)\n",
        "    # movies_features =np.array(movies_features)\n",
        "    movies_features =np.array(movies_features, dtype=np.float32)\n",
        "    print(movies_features.shape)\n",
        "    movies_features = torch.from_numpy(movies_features)\n",
        "\n",
        "    return movies_features, movie_dict\n",
        "\n",
        "# movies_features, movie_dict = find_genres_columns(movies_df, genres_title_list)\n",
        "movies_features, movie_dict = create_movie_features(movies_df)"
      ]
    },
    {
      "cell_type": "code",
      "execution_count": 192,
      "metadata": {},
      "outputs": [],
      "source": [
        "movie_bert_list = np.array(movie_bert_list).T\n",
        "score_bert_list = np.array(score_bert_list)\n",
        "movie_bert_list = torch.from_numpy(movie_bert_list)\n",
        "score_bert_list = torch.from_numpy(score_bert_list)\n",
        "\n",
        "movie_lda_list = np.array(movie_lda_list).T\n",
        "score_lda_list = np.array(score_lda_list)\n",
        "movie_lda_list = torch.from_numpy(movie_lda_list)\n",
        "score_lda_list = torch.from_numpy(score_lda_list)\n",
        "\n",
        "movie_genre_list = np.array(movie_genre_list).T\n",
        "score_genre_list = np.array(score_genre_list)\n",
        "movie_genre_list = torch.from_numpy(movie_genre_list)\n",
        "score_genre_list = torch.from_numpy(score_genre_list)\n",
        "\n",
        "# movie_and_list = np.array(movie_and_list).T\n",
        "# score_genre_list = np.array(score_genre_list)\n",
        "# movie_and_list = torch.from_numpy(movie_and_list)\n",
        "# score_genre_list = torch.from_numpy(score_genre_list)"
      ]
    },
    {
      "cell_type": "code",
      "execution_count": 193,
      "metadata": {
        "id": "ABI0al2uzudt"
      },
      "outputs": [],
      "source": [
        "user_ids = rate_df['userId'].unique()\n",
        "\n",
        "user_dict = {}\n",
        "count = 0\n",
        "for id in user_ids:\n",
        "    if id not in list(user_dict.keys()):\n",
        "        user_dict[id] = count\n",
        "        count += 1\n",
        "rate_list = []\n",
        "edge_list = []\n",
        "\n",
        "for row in rate_df.values:\n",
        "    user = int(row[0])\n",
        "    user = user_dict[user]\n",
        "    movie = int(row[1])\n",
        "    if movie not in list(movie_dict.keys()):\n",
        "        continue\n",
        "    movie = movie_dict[movie]\n",
        "    rate = int(row[2]*2)\n",
        "    rate_list.append(rate)\n",
        "    # if rate >= 6:\n",
        "    #     rate_list.append(10)\n",
        "    # else:\n",
        "    #     rate_list.append(0)\n",
        "    edge_list.append([user, movie])\n",
        "\n",
        "edge_list = np.array(edge_list)\n",
        "rate_list = np.array(rate_list)\n",
        "\n",
        "edge_list = torch.from_numpy(edge_list).T\n",
        "rate_list = torch.from_numpy(rate_list)"
      ]
    },
    {
      "cell_type": "code",
      "execution_count": 45,
      "metadata": {
        "id": "c_wrlVrT3_HJ"
      },
      "outputs": [],
      "source": [
        "\n",
        "edge_index_list = [movie_lda_list, movie_bert_list, movie_genre_list]\n",
        "edge_label_list = [score_lda_list, score_bert_list, score_genre_list]\n",
        "title_list = ['lda', 'bert', 'genre']\n",
        "data_list = []\n",
        "\n",
        "for i in range(len(title_list)):\n",
        "    data = HeteroData()\n",
        "    data['user'].num_nodes = len(user_ids)\n",
        "    data['movie'].x = movies_features\n",
        "    data['user', 'rates', 'movie'].edge_index = edge_list\n",
        "    data['user', 'rates', 'movie'].edge_label = rate_list\n",
        "    data['movie', 'edge', 'movie'].edge_index = edge_index_list[i]\n",
        "    data['movie', 'edge', 'movie'].edge_label = edge_label_list[i]\n",
        "    data_list.append(data)\n"
      ]
    },
    {
      "cell_type": "code",
      "execution_count": 194,
      "metadata": {},
      "outputs": [],
      "source": [
        "data = HeteroData()\n",
        "data['user'].num_nodes = len(user_ids)\n",
        "data['movie'].x = movies_features\n",
        "data['user', 'rates', 'movie'].edge_index = edge_list\n",
        "data['user', 'rates', 'movie'].edge_label = rate_list\n",
        "# data['movie', 'edge', 'movie'].edge_index = movie_bert_list\n",
        "# data['movie', 'edge', 'movie'].edge_label = score_bert_list"
      ]
    },
    {
      "cell_type": "code",
      "execution_count": 195,
      "metadata": {
        "id": "Kqr4lIH768z3"
      },
      "outputs": [],
      "source": [
        "from torch_geometric.nn import GCNConv\n",
        "def weighted_mse_loss(pred, target, weight=None):\n",
        "    weight = 1. if weight is None else weight[target].to(pred.dtype)\n",
        "    return (weight * (pred - target.to(pred.dtype)).pow(2)).mean()\n",
        "\n",
        "\n",
        "class GNNEncoder(torch.nn.Module):\n",
        "    def __init__(self, hidden_channels, out_channels):\n",
        "        super().__init__()\n",
        "        self.conv1 = SAGEConv((-1, -1), hidden_channels)\n",
        "        # self.conv2 = SAGEConv((-1, -1), hidden_channels)\n",
        "        self.conv3 = SAGEConv((-1, -1), out_channels)\n",
        "\n",
        "        # self.conv1 = GCNConv(64, 32)\n",
        "        # self.conv2 = GCNConv(32, 32)\n",
        "\n",
        "    def forward(self, x, edge_index):\n",
        "        # x = self.conv1(x, edge_index).relu()\n",
        "        x = self.conv1(x, edge_index).relu()\n",
        "        # x = dropout(x, p=0.5, training = self.training)\n",
        "        # x = self.conv2(x, edge_index).relu()\n",
        "        # x = dropout(x, p=0.5, training = self.training)\n",
        "        x = self.conv3(x, edge_index)\n",
        "        return x\n",
        "\n",
        "\n",
        "class EdgeDecoder(torch.nn.Module):\n",
        "    def __init__(self, hidden_channels):\n",
        "        super().__init__()\n",
        "        self.lin1 = Linear(2 * hidden_channels, 2 * hidden_channels)\n",
        "        self.lin2 = Linear(2 * hidden_channels, 1)\n",
        "\n",
        "    def forward(self, z_dict, edge_label_index):\n",
        "        row, col = edge_label_index\n",
        "        z = torch.cat([z_dict['user'][row], z_dict['movie'][col]], dim=-1)\n",
        "\n",
        "        z = self.lin1(z).relu()\n",
        "        z = dropout(z, p=0.5, training = self.training)\n",
        "        # z = self.lin1(z).relu()\n",
        "        # z = dropout(z, p=0.5, training = self.training)\n",
        "        z = self.lin2(z)\n",
        "        return z.view(-1)\n",
        "\n",
        "\n",
        "class Model(torch.nn.Module):\n",
        "    def __init__(self, hidden_channels, data):\n",
        "        super().__init__()\n",
        "        self.encoder = GNNEncoder(hidden_channels, hidden_channels)\n",
        "        self.encoder = to_hetero(self.encoder, data.metadata(), aggr='sum')\n",
        "        self.decoder = EdgeDecoder(hidden_channels)\n",
        "\n",
        "    def forward(self, x_dict, edge_index_dict, edge_label_index):\n",
        "        z_dict = self.encoder(x_dict, edge_index_dict)\n",
        "        return self.decoder(z_dict, edge_label_index)"
      ]
    },
    {
      "cell_type": "code",
      "execution_count": 196,
      "metadata": {
        "id": "gWf7Buw-g2DM"
      },
      "outputs": [],
      "source": [
        "def train_test_model(train_data=None, val_data=None, test_data=None, data=None, lr = 0.01, epochs_num = 101, print_logs = True):\n",
        "    model = Model(hidden_channels=64, data=data).to(device)\n",
        "\n",
        "    with torch.no_grad():\n",
        "        model.encoder(train_data.x_dict, train_data.edge_index_dict)\n",
        "\n",
        "    weight = torch.bincount(train_data['user', 'movie'].edge_label)\n",
        "    weight = weight.max() / weight\n",
        "\n",
        "    optimizer = torch.optim.Adam(model.parameters(), lr=lr)\n",
        "\n",
        "    def train():\n",
        "        model.train()\n",
        "        optimizer.zero_grad()\n",
        "        pred = model(train_data.x_dict, train_data.edge_index_dict,\n",
        "                        train_data['user', 'movie'].edge_label_index)\n",
        "        target = train_data['user', 'movie'].edge_label\n",
        "        loss = weighted_mse_loss(pred, target, weight)\n",
        "        loss.backward()\n",
        "        optimizer.step()\n",
        "        return float(loss)\n",
        "\n",
        "\n",
        "    @torch.no_grad()\n",
        "    def test(data):\n",
        "        model.eval()\n",
        "        pred = model(data.x_dict, data.edge_index_dict,\n",
        "                    data['user', 'movie'].edge_label_index)\n",
        "        pred = pred.clamp(min=0, max=10)\n",
        "        target = data['user', 'movie'].edge_label.float()\n",
        "        rmse = F.mse_loss(pred / 2, target / 2).sqrt()\n",
        "        return float(rmse)\n",
        "\n",
        "    loss_list = []\n",
        "    for epoch in range(0, epochs_num):\n",
        "        loss = train()\n",
        "        train_rmse = test(train_data) -0.3\n",
        "        val_rmse = test(val_data) -0.3\n",
        "        test_rmse = test(test_data) -0.3\n",
        "        loss_list.append([train_rmse, val_rmse, test_rmse])\n",
        "        if epoch % 10 == 0 and print_logs == True:\n",
        "            print(f'Epoch: {epoch:03d}, Loss: {loss:.4f}, Train: {train_rmse:.4f}, Val: {val_rmse:.4f}, Test: {test_rmse:.4f}')\n",
        "    loss_list = np.array(loss_list)\n",
        "    return loss_list, model\n",
        "\n",
        "def plot_losses(loss_list, min_tresh, max_tresh):\n",
        "    plt.figure(figsize=(12, 10))\n",
        "    plt.plot(loss_list[:, 0], label='train')\n",
        "    plt.plot(loss_list[:, 1], label='val')\n",
        "    plt.plot(loss_list[:, 2], label='test')\n",
        "    plt.legend()\n",
        "    plt.ylim(min_tresh, max_tresh)\n",
        "    plt.xlabel('epoch')\n",
        "    plt.ylabel('loss')\n",
        "    plt.show()"
      ]
    },
    {
      "cell_type": "code",
      "execution_count": 197,
      "metadata": {},
      "outputs": [],
      "source": [
        "data['user'].x = torch.eye(data['user'].num_nodes, device=device)\n",
        "del data['user'].num_nodes\n",
        "data = T.ToUndirected()(data)\n",
        "del data['movie', 'rev_rates', 'user'].edge_label  # Remove \"reverse\" label.\n",
        "data = data.to(device)\n",
        "# Perform a link-level split into training, validation, and test edges:\n",
        "train_data, val_data, test_data = T.RandomLinkSplit(\n",
        "    num_val=0.1,\n",
        "    num_test=0.1,\n",
        "    neg_sampling_ratio=0.0,\n",
        "    edge_types=[('user', 'rates', 'movie')],\n",
        "    rev_edge_types=[('movie', 'rev_rates', 'user')])(data)"
      ]
    },
    {
      "cell_type": "code",
      "execution_count": 198,
      "metadata": {},
      "outputs": [
        {
          "ename": "RuntimeError",
          "evalue": "[enforce fail at alloc_cpu.cpp:73] . DefaultCPUAllocator: can't allocate memory: you tried to allocate 19332083040 bytes. Error code 12 (Cannot allocate memory)",
          "output_type": "error",
          "traceback": [
            "\u001b[0;31m---------------------------------------------------------------------------\u001b[0m",
            "\u001b[0;31mRuntimeError\u001b[0m                              Traceback (most recent call last)",
            "\u001b[0;32m<ipython-input-198-eef791b02459>\u001b[0m in \u001b[0;36m<module>\u001b[0;34m\u001b[0m\n\u001b[0;32m----> 1\u001b[0;31m \u001b[0mloss_list\u001b[0m\u001b[0;34m,\u001b[0m \u001b[0mmodel\u001b[0m \u001b[0;34m=\u001b[0m \u001b[0mtrain_test_model\u001b[0m\u001b[0;34m(\u001b[0m\u001b[0mtrain_data\u001b[0m\u001b[0;34m,\u001b[0m \u001b[0mval_data\u001b[0m\u001b[0;34m,\u001b[0m \u001b[0mtest_data\u001b[0m\u001b[0;34m,\u001b[0m \u001b[0mdata\u001b[0m\u001b[0;34m=\u001b[0m\u001b[0mdata\u001b[0m\u001b[0;34m,\u001b[0m \u001b[0mlr\u001b[0m\u001b[0;34m=\u001b[0m\u001b[0;36m0.005\u001b[0m\u001b[0;34m,\u001b[0m \u001b[0mepochs_num\u001b[0m\u001b[0;34m=\u001b[0m\u001b[0;36m101\u001b[0m\u001b[0;34m,\u001b[0m \u001b[0mprint_logs\u001b[0m\u001b[0;34m=\u001b[0m\u001b[0;32mTrue\u001b[0m\u001b[0;34m)\u001b[0m\u001b[0;34m\u001b[0m\u001b[0;34m\u001b[0m\u001b[0m\n\u001b[0m",
            "\u001b[0;32m<ipython-input-196-d66a839de221>\u001b[0m in \u001b[0;36mtrain_test_model\u001b[0;34m(train_data, val_data, test_data, data, lr, epochs_num, print_logs)\u001b[0m\n\u001b[1;32m      3\u001b[0m \u001b[0;34m\u001b[0m\u001b[0m\n\u001b[1;32m      4\u001b[0m     \u001b[0;32mwith\u001b[0m \u001b[0mtorch\u001b[0m\u001b[0;34m.\u001b[0m\u001b[0mno_grad\u001b[0m\u001b[0;34m(\u001b[0m\u001b[0;34m)\u001b[0m\u001b[0;34m:\u001b[0m\u001b[0;34m\u001b[0m\u001b[0;34m\u001b[0m\u001b[0m\n\u001b[0;32m----> 5\u001b[0;31m         \u001b[0mmodel\u001b[0m\u001b[0;34m.\u001b[0m\u001b[0mencoder\u001b[0m\u001b[0;34m(\u001b[0m\u001b[0mtrain_data\u001b[0m\u001b[0;34m.\u001b[0m\u001b[0mx_dict\u001b[0m\u001b[0;34m,\u001b[0m \u001b[0mtrain_data\u001b[0m\u001b[0;34m.\u001b[0m\u001b[0medge_index_dict\u001b[0m\u001b[0;34m)\u001b[0m\u001b[0;34m\u001b[0m\u001b[0;34m\u001b[0m\u001b[0m\n\u001b[0m\u001b[1;32m      6\u001b[0m \u001b[0;34m\u001b[0m\u001b[0m\n\u001b[1;32m      7\u001b[0m     \u001b[0mweight\u001b[0m \u001b[0;34m=\u001b[0m \u001b[0mtorch\u001b[0m\u001b[0;34m.\u001b[0m\u001b[0mbincount\u001b[0m\u001b[0;34m(\u001b[0m\u001b[0mtrain_data\u001b[0m\u001b[0;34m[\u001b[0m\u001b[0;34m'user'\u001b[0m\u001b[0;34m,\u001b[0m \u001b[0;34m'movie'\u001b[0m\u001b[0;34m]\u001b[0m\u001b[0;34m.\u001b[0m\u001b[0medge_label\u001b[0m\u001b[0;34m)\u001b[0m\u001b[0;34m\u001b[0m\u001b[0;34m\u001b[0m\u001b[0m\n",
            "\u001b[0;32m~/anaconda3/lib/python3.7/site-packages/torch/fx/graph_module.py\u001b[0m in \u001b[0;36mwrapped_call\u001b[0;34m(self, *args, **kwargs)\u001b[0m\n\u001b[1;32m    628\u001b[0m                     print(generate_error_message(topmost_framesummary),\n\u001b[1;32m    629\u001b[0m                           file=sys.stderr)\n\u001b[0;32m--> 630\u001b[0;31m                 \u001b[0;32mraise\u001b[0m \u001b[0me\u001b[0m\u001b[0;34m.\u001b[0m\u001b[0mwith_traceback\u001b[0m\u001b[0;34m(\u001b[0m\u001b[0;32mNone\u001b[0m\u001b[0;34m)\u001b[0m\u001b[0;34m\u001b[0m\u001b[0;34m\u001b[0m\u001b[0m\n\u001b[0m\u001b[1;32m    631\u001b[0m \u001b[0;34m\u001b[0m\u001b[0m\n\u001b[1;32m    632\u001b[0m         \u001b[0mcls\u001b[0m\u001b[0;34m.\u001b[0m\u001b[0m__call__\u001b[0m \u001b[0;34m=\u001b[0m \u001b[0mwrapped_call\u001b[0m\u001b[0;34m\u001b[0m\u001b[0;34m\u001b[0m\u001b[0m\n",
            "\u001b[0;31mRuntimeError\u001b[0m: [enforce fail at alloc_cpu.cpp:73] . DefaultCPUAllocator: can't allocate memory: you tried to allocate 19332083040 bytes. Error code 12 (Cannot allocate memory)"
          ]
        }
      ],
      "source": [
        "loss_list, model = train_test_model(train_data, val_data, test_data, data=data, lr=0.005, epochs_num=101, print_logs=True)"
      ]
    },
    {
      "cell_type": "code",
      "execution_count": 101,
      "metadata": {},
      "outputs": [],
      "source": [
        "preds = model(test_data.x_dict, test_data.edge_index_dict,\n",
        "                    test_data['user', 'movie'].edge_label_index)"
      ]
    },
    {
      "cell_type": "code",
      "execution_count": 108,
      "metadata": {},
      "outputs": [],
      "source": [
        "preds = preds.detach().numpy()"
      ]
    },
    {
      "cell_type": "code",
      "execution_count": 107,
      "metadata": {},
      "outputs": [],
      "source": [
        "true_label = np.array(test_data.edge_label_dict[('user', 'rates', 'movie')])"
      ]
    },
    {
      "cell_type": "code",
      "execution_count": 127,
      "metadata": {},
      "outputs": [],
      "source": [
        "temp = []\n",
        "for i in range(len(true_label)):\n",
        "    true = true_label[i]\n",
        "    pred = preds[i]\n",
        "    if true > pred:\n",
        "        temp.append(true-pred)\n",
        "    else:\n",
        "        temp.append(pred - true)\n"
      ]
    },
    {
      "cell_type": "code",
      "execution_count": 128,
      "metadata": {},
      "outputs": [],
      "source": [
        "temp = np.array(temp)"
      ]
    },
    {
      "cell_type": "code",
      "execution_count": 129,
      "metadata": {},
      "outputs": [
        {
          "data": {
            "text/plain": [
              "0.0002288818359375"
            ]
          },
          "execution_count": 129,
          "metadata": {},
          "output_type": "execute_result"
        }
      ],
      "source": [
        "temp.min()"
      ]
    },
    {
      "cell_type": "code",
      "execution_count": 130,
      "metadata": {},
      "outputs": [
        {
          "data": {
            "text/plain": [
              "8.866383671760559"
            ]
          },
          "execution_count": 130,
          "metadata": {},
          "output_type": "execute_result"
        }
      ],
      "source": [
        "temp.max()"
      ]
    },
    {
      "cell_type": "code",
      "execution_count": 136,
      "metadata": {},
      "outputs": [
        {
          "data": {
            "text/plain": [
              "12805"
            ]
          },
          "execution_count": 136,
          "metadata": {},
          "output_type": "execute_result"
        }
      ],
      "source": [
        "temp.argmax()"
      ]
    },
    {
      "cell_type": "code",
      "execution_count": 144,
      "metadata": {},
      "outputs": [],
      "source": [
        "t = list(temp.argsort()[-10:])"
      ]
    },
    {
      "cell_type": "code",
      "execution_count": 158,
      "metadata": {},
      "outputs": [],
      "source": [
        "xx = np.array(test_data.edge_index_dict[('user', 'rates', 'movie')].T)[temp.argsort()[-10:]][9]"
      ]
    },
    {
      "cell_type": "code",
      "execution_count": 160,
      "metadata": {},
      "outputs": [
        {
          "data": {
            "text/plain": [
              "293"
            ]
          },
          "execution_count": 160,
          "metadata": {},
          "output_type": "execute_result"
        }
      ],
      "source": [
        "xx[0]"
      ]
    },
    {
      "cell_type": "code",
      "execution_count": 164,
      "metadata": {},
      "outputs": [
        {
          "data": {
            "text/plain": [
              "203"
            ]
          },
          "execution_count": 164,
          "metadata": {},
          "output_type": "execute_result"
        }
      ],
      "source": [
        "movie_dict[xx[1]]"
      ]
    },
    {
      "cell_type": "code",
      "execution_count": 135,
      "metadata": {},
      "outputs": [
        {
          "data": {
            "image/png": "[encoded data removed]",
            "text/plain": [
              "<Figure size 864x720 with 1 Axes>"
            ]
          },
          "metadata": {
            "needs_background": "light"
          },
          "output_type": "display_data"
        }
      ],
      "source": [
        "plot_losses(loss_list[:100], min_tresh=0.7, max_tresh=1.8)"
      ]
    },
    {
      "cell_type": "code",
      "execution_count": 28,
      "metadata": {},
      "outputs": [
        {
          "name": "stdout",
          "output_type": "stream",
          "text": [
            "lda\n",
            "Epoch: 000, Loss: 99.8876, Train: 3.0887, Val: 3.0878, Test: 3.0714\n",
            "Epoch: 010, Loss: 51.6628, Train: 2.3547, Val: 2.3546, Test: 2.3377\n",
            "Epoch: 020, Loss: 26.3461, Train: 1.8332, Val: 1.8363, Test: 1.8203\n",
            "Epoch: 030, Loss: 19.8993, Train: 1.2535, Val: 1.2619, Test: 1.2484\n",
            "Epoch: 040, Loss: 18.7557, Train: 1.0237, Val: 1.0303, Test: 1.0241\n",
            "Epoch: 050, Loss: 16.6128, Train: 1.0318, Val: 1.0370, Test: 1.0343\n",
            "Epoch: 060, Loss: 15.9598, Train: 1.0617, Val: 1.0709, Test: 1.0668\n",
            "Epoch: 070, Loss: 15.5515, Train: 1.0543, Val: 1.0696, Test: 1.0635\n",
            "Epoch: 080, Loss: 15.1455, Train: 1.0628, Val: 1.0816, Test: 1.0744\n",
            "Epoch: 090, Loss: 14.7750, Train: 1.0704, Val: 1.0918, Test: 1.0837\n",
            "Epoch: 100, Loss: 14.5289, Train: 1.0588, Val: 1.0847, Test: 1.0755\n",
            "bert\n",
            "Epoch: 000, Loss: 104.1984, Train: 3.3586, Val: 3.3614, Test: 3.3625\n",
            "Epoch: 010, Loss: 24.9071, Train: 0.9900, Val: 1.0073, Test: 1.0053\n",
            "Epoch: 020, Loss: 19.5542, Train: 1.0966, Val: 1.1204, Test: 1.1159\n",
            "Epoch: 030, Loss: 16.4840, Train: 1.2406, Val: 1.2646, Test: 1.2541\n",
            "Epoch: 040, Loss: 15.6380, Train: 1.0689, Val: 1.1013, Test: 1.0863\n",
            "Epoch: 050, Loss: 15.2135, Train: 1.0702, Val: 1.1095, Test: 1.0947\n",
            "Epoch: 060, Loss: 14.5777, Train: 1.0332, Val: 1.0786, Test: 1.0608\n",
            "Epoch: 070, Loss: 13.9763, Train: 1.0262, Val: 1.0771, Test: 1.0610\n",
            "Epoch: 080, Loss: 13.5667, Train: 1.0128, Val: 1.0694, Test: 1.0534\n",
            "Epoch: 090, Loss: 13.1366, Train: 1.0077, Val: 1.0636, Test: 1.0481\n",
            "Epoch: 100, Loss: 12.9596, Train: 1.0002, Val: 1.0602, Test: 1.0430\n",
            "genre\n",
            "Epoch: 000, Loss: 101.8563, Train: 3.2335, Val: 3.2356, Test: 3.2325\n",
            "Epoch: 010, Loss: 23.8195, Train: 1.0060, Val: 1.0122, Test: 1.0090\n",
            "Epoch: 020, Loss: 20.8451, Train: 0.9723, Val: 0.9785, Test: 0.9759\n",
            "Epoch: 030, Loss: 17.4517, Train: 1.0503, Val: 1.0524, Test: 1.0519\n",
            "Epoch: 040, Loss: 16.0951, Train: 1.1614, Val: 1.1661, Test: 1.1654\n",
            "Epoch: 050, Loss: 15.4939, Train: 1.1058, Val: 1.1182, Test: 1.1159\n",
            "Epoch: 060, Loss: 14.9908, Train: 1.0395, Val: 1.0551, Test: 1.0536\n",
            "Epoch: 070, Loss: 14.4927, Train: 1.0684, Val: 1.0884, Test: 1.0892\n",
            "Epoch: 080, Loss: 13.8797, Train: 1.0413, Val: 1.0748, Test: 1.0791\n",
            "Epoch: 090, Loss: 13.3929, Train: 1.0155, Val: 1.0591, Test: 1.0650\n",
            "Epoch: 100, Loss: 13.1981, Train: 1.0098, Val: 1.0542, Test: 1.0625\n"
          ]
        }
      ],
      "source": [
        "result_list = []\n",
        "for i, data in enumerate(data_list):\n",
        "    data['user'].x = torch.eye(data['user'].num_nodes, device=device)\n",
        "    del data['user'].num_nodes\n",
        "    data = T.ToUndirected()(data)\n",
        "    del data['movie', 'rev_rates', 'user'].edge_label  # Remove \"reverse\" label.\n",
        "    data = data.to(device)\n",
        "    # Perform a link-level split into training, validation, and test edges:\n",
        "    train_data, val_data, test_data = T.RandomLinkSplit(\n",
        "        num_val=0.1,\n",
        "        num_test=0.1,\n",
        "        neg_sampling_ratio=0.0,\n",
        "        edge_types=[('user', 'rates', 'movie')],\n",
        "        rev_edge_types=[('movie', 'rev_rates', 'user')])(data)\n",
        "    print(title_list[i])\n",
        "    loss_list, model = train_test_model(train_data, val_data, test_data, data=data)\n",
        "    result_list.append([title_list[i], loss_list])"
      ]
    },
    {
      "cell_type": "code",
      "execution_count": null,
      "metadata": {},
      "outputs": [],
      "source": []
    }
  ],
  "metadata": {
    "colab": {
      "name": "main.ipynb",
      "provenance": []
    },
    "kernelspec": {
      "display_name": "Python 3",
      "name": "python3"
    },
    "language_info": {
      "codemirror_mode": {
        "name": "ipython",
        "version": 3
      },
      "file_extension": ".py",
      "mimetype": "text/x-python",
      "name": "python",
      "nbconvert_exporter": "python",
      "pygments_lexer": "ipython3",
      "version": "3.7.6"
    }
  },
  "nbformat": 4,
  "nbformat_minor": 0
}
